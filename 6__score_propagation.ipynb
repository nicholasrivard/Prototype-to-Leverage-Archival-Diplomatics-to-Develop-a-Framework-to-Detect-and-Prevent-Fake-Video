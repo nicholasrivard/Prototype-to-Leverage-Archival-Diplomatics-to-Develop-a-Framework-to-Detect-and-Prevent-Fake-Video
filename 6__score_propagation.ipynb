{
 "cells": [
  {
   "cell_type": "markdown",
   "id": "3faca5b4",
   "metadata": {},
   "source": [
    "# Towards a Prototype to Leverage Archival Diplomatics to Develop a Framework to Detect and Prevent Fake Video\n",
    "## Authors: Michel Barbeau, Nicholas Rivard\n",
    "## Version: Jun 7, 2024"
   ]
  },
  {
   "cell_type": "code",
   "execution_count": 1,
   "id": "77ed1764",
   "metadata": {},
   "outputs": [
    {
     "name": "stderr",
     "output_type": "stream",
     "text": [
      "/home/me/.local/lib/python3.10/site-packages/matplotlib/projections/__init__.py:63: UserWarning: Unable to import Axes3D. This may be due to multiple versions of Matplotlib being installed (e.g. as a system package and as a pip package). As a result, the 3D projection is not available.\n",
      "  warnings.warn(\"Unable to import Axes3D. This may be due to multiple versions of \"\n"
     ]
    }
   ],
   "source": [
    "# DEPENDENCIES ----------------------------------------------------------------------------------------------------------------\n",
    "import warnings\n",
    "import numpy as np\n",
    "import networkx as nx\n",
    "import matplotlib.pyplot as plt\n",
    "from matplotlib.patches import Patch\n",
    "\n",
    "import neo4j"
   ]
  },
  {
   "cell_type": "code",
   "execution_count": 30,
   "id": "a6984cc5",
   "metadata": {},
   "outputs": [
    {
     "name": "stderr",
     "output_type": "stream",
     "text": [
      "/home/me/.local/lib/python3.10/site-packages/networkx/readwrite/graphml.py:1032: UserWarning: No key type for id init. Using string\n",
      "  warnings.warn(f\"No key type for id {attr_id}. Using string\")\n",
      "/home/me/.local/lib/python3.10/site-packages/networkx/readwrite/graphml.py:1032: UserWarning: No key type for id code. Using string\n",
      "  warnings.warn(f\"No key type for id {attr_id}. Using string\")\n",
      "/home/me/.local/lib/python3.10/site-packages/networkx/readwrite/graphml.py:1032: UserWarning: No key type for id evidence. Using string\n",
      "  warnings.warn(f\"No key type for id {attr_id}. Using string\")\n",
      "/home/me/.local/lib/python3.10/site-packages/networkx/readwrite/graphml.py:1032: UserWarning: No key type for id claim. Using string\n",
      "  warnings.warn(f\"No key type for id {attr_id}. Using string\")\n",
      "/home/me/.local/lib/python3.10/site-packages/networkx/readwrite/graphml.py:1032: UserWarning: No key type for id labels. Using string\n",
      "  warnings.warn(f\"No key type for id {attr_id}. Using string\")\n",
      "/home/me/.local/lib/python3.10/site-packages/networkx/readwrite/graphml.py:1032: UserWarning: No key type for id label. Using string\n",
      "  warnings.warn(f\"No key type for id {attr_id}. Using string\")\n"
     ]
    }
   ],
   "source": [
    "# LOAD DATA -------------------------------------------------------------------------------------------------------------------\n",
    "G = nx.read_graphml('data.graphml')"
   ]
  },
  {
   "cell_type": "markdown",
   "id": "d806d15f-e270-4598-922e-2af5a0b86fdd",
   "metadata": {},
   "source": [
    "# Compute Trustworthiness Scores"
   ]
  },
  {
   "cell_type": "code",
   "execution_count": 31,
   "id": "61d82897",
   "metadata": {},
   "outputs": [],
   "source": [
    "# PROPAGATION ALGORITHM -------------------------------------------------------------------------------------------------------\n",
    "def MTF(G, lambda_tr=0.90, max_iterations=1, tolerance=0.01):\n",
    "    # initial trustworthiness scores\n",
    "    scores = {\n",
    "        node: float(G.nodes[node]['init'])\n",
    "        for node in G.nodes\n",
    "    }   \n",
    "    # compute Response scores\n",
    "    for node in G.nodes:\n",
    "            if G.nodes[node]['labels']==':Response':\n",
    "                scores[node] = (1 - lambda_tr) * scores[node]\n",
    "                # propagate from Participants\n",
    "                for neighbor in G.nodes:\n",
    "                    if node in G.neighbors(neighbor):\n",
    "                        scores[node] += lambda_tr * scores[neighbor]\n",
    "    # compute Claim scores\n",
    "    for node in G.nodes:\n",
    "        if G.nodes[node]['labels']==':Claim':\n",
    "            # propagate from Responses\n",
    "            for neighbor in G.nodes:\n",
    "                if node in G.neighbors(neighbor) and G.nodes[neighbor]['labels']==':Response':\n",
    "                    if G.nodes[neighbor]['claim'] == G.nodes[node]['claim']:\n",
    "                        scores[node] += scores[neighbor]\n",
    "    return scores\n",
    "\n",
    "\n",
    "# NAMED SCORES ----------------------------------------------------------------------------------------------------------------\n",
    "def named_scores(G, scores):\n",
    "    i = 0\n",
    "    nscores = {}\n",
    "    for node in G.nodes:\n",
    "        # Participants\n",
    "        if G.nodes[node]['labels'] == ':Participant':\n",
    "            k = G.nodes[node]['code']\n",
    "            l = 'Participant'\n",
    "        # Claims\n",
    "        elif G.nodes[node]['labels'] == ':Claim':\n",
    "            k = G.nodes[node]['claim']\n",
    "            l = 'Claim'\n",
    "        # Responses\n",
    "        elif G.nodes[node]['labels'] == ':Response':\n",
    "            k = G.nodes[node]['claim'] + str(i)\n",
    "            i+= 1\n",
    "            l = 'Response'\n",
    "        # unrecognized label\n",
    "        else:\n",
    "            print('[ERR] ' + node + ' has unrecognized label: ' + G.nodes[node]['labels'])\n",
    "        nscores[k] = {\"label\":l, \"score\":scores[node]}\n",
    "    return nscores\n",
    "    \n",
    "\n",
    "# RUN -------------------------------------------------------------------------------------------------------------------------\n",
    "scores = MTF(G, max_iterations=1)\n",
    "#scores\n",
    "nscores = named_scores(G,scores)\n",
    "#display(nscores)"
   ]
  },
  {
   "cell_type": "markdown",
   "id": "62093755-0579-42ba-a67c-7408c68e5d77",
   "metadata": {},
   "source": [
    "# Claim Scores"
   ]
  },
  {
   "cell_type": "code",
   "execution_count": 33,
   "id": "70d21d2f-862d-4222-affe-aad62437e534",
   "metadata": {},
   "outputs": [
    {
     "data": {
      "image/png": "[encoded data removed]",
      "text/plain": [
       "<Figure size 2100x400 with 1 Axes>"
      ]
     },
     "metadata": {},
     "output_type": "display_data"
    }
   ],
   "source": [
    "# GET CLAIM SCORES ------------------------------------------------------------------------------------------------------------\n",
    "def get_claim_scores(nscores):\n",
    "    i = 0\n",
    "    k = list(nscores.keys())\n",
    "    claim_scores = {}\n",
    "    for score in nscores:\n",
    "        if nscores[k[i]]['label'] == 'Claim':\n",
    "            claim_scores[k[i]] = nscores[k[i]]['score']\n",
    "        i += 1\n",
    "    return claim_scores\n",
    "\n",
    "\n",
    "# LABEL FORMATING -------------------------------------------------------------------------------------------------------------\n",
    "def addlabels(x,y):\n",
    "    x_pos = [1,2, 4,5, 7,8, 10,11, 13,14, 16,17, 19,20, 22,23]\n",
    "    for i in range(16):\n",
    "        plt.text(x[i], -1, round(y[i],2), ha = 'center')\n",
    "        #plt.text(i, y[i]//2,y[i], ha = 'center', Bbox = dict(facecolor = 'white', alpha = .5))\n",
    "\n",
    "# PLOT CLAIMS -----------------------------------------------------------------------------------------------------------------\n",
    "def plot_claims(nscores):\n",
    "    plt.style.use('_mpl-gallery')\n",
    "    # get data\n",
    "    x_pos = [1,2, 4,5, 7,8, 10,11, 13,14, 16,17, 19,20, 22,23]\n",
    "    claim_scores = get_claim_scores(nscores)\n",
    "    scores = []\n",
    "    claims = []\n",
    "    for claim in claim_scores:\n",
    "        scores.append(claim_scores[claim])\n",
    "        claims.append(claim)\n",
    "    # bar formatting\n",
    "    labels = ['VV:auth', 'VV:fake', 'VM:auth', 'VM:fake', 'AM:auth', 'AM:fake', 'AA:auth', 'AA:fake', 'MM:auth', 'MM:fake', 'VA:auth', 'VA:fake', 'Auth1:auth', 'Auth1:fake', 'Auth2:auth', 'Auth2:fake']\n",
    "    colors = ['tab:red', 'tab:blue', 'tab:red', 'tab:blue', 'tab:red', 'tab:blue', 'tab:red', 'tab:blue', 'tab:red', 'tab:blue', 'tab:red', 'tab:blue', 'tab:blue', 'tab:red', 'tab:blue', 'tab:red']\n",
    "    patterns = [\"/\", \"\\\\\", \"/\", \"\\\\\", \"/\", \"\\\\\", \"/\", \"\\\\\", \"/\", \"\\\\\", \"/\", \"\\\\\", \"\\\\\", \"/\", \"\\\\\", \"/\"]\n",
    "    # plot\n",
    "    fig, ax = plt.subplots()\n",
    "    fig.set_figwidth(21)\n",
    "    fig.set_figheight(4)\n",
    "    ax.bar(x_pos, scores, label=labels, color=colors, hatch=patterns)\n",
    "    #ax.set_title('Claim scores')\n",
    "    ax.set_xlabel(\"Claims\")\n",
    "    ax.set_ylabel(\"Scores\")\n",
    "    ax.set(xlim=(0, 8), xticks=np.arange(1, 25),\n",
    "           ylim=(0, 8), yticks=np.arange(1, 10))\n",
    "    plt.rcParams.update({'font.size': 15})\n",
    "    plt.axis('off')\n",
    "    rects = ax.patches\n",
    "    for rect, label in zip(rects, labels):\n",
    "        height = rect.get_height()\n",
    "        ax.text(\n",
    "            rect.get_x() + rect.get_width() / 2, height + 0.1, label, ha=\"center\", va=\"bottom\"\n",
    "        )\n",
    "    #legend_labels = ['Not ground truth', 'Ground truth']\n",
    "    #legend_colors = ['tab:blue', 'tab:red']\n",
    "    legend_elements = [Patch(facecolor='tab:red', edgecolor='black', label='Not ground truth', hatch='/'),\n",
    "                       Patch(facecolor='tab:blue', edgecolor='black', label='Ground truth', hatch='\\\\')]\n",
    "    leg = ax.legend(handles=legend_elements, handlelength=4, labelspacing=1.5, borderpad=1, fontsize=15)\n",
    "    for patch in leg.get_patches():\n",
    "        patch.set_height(16)\n",
    "        patch.set_y(-4)\n",
    "    \n",
    "    addlabels(x_pos, scores)\n",
    "    plt.show()\n",
    "\n",
    "# RUN -------------------------------------------------------------------------------------------------------------------------\n",
    "#claim_scores = get_claim_scores(nscores)\n",
    "#dict(sorted(claim_scores.items(), key=lambda item: item[1], reverse=True))\n",
    "plot_claims(nscores)"
   ]
  },
  {
   "cell_type": "markdown",
   "id": "1307dd0c-e6f3-4c68-9a96-7cf1a636d08c",
   "metadata": {},
   "source": [
    "# Participant Scores"
   ]
  },
  {
   "cell_type": "code",
   "execution_count": 5,
   "id": "946f3469-0f5c-4354-9d50-2bd7cf57adc6",
   "metadata": {
    "collapsed": true,
    "jupyter": {
     "outputs_hidden": true,
     "source_hidden": true
    }
   },
   "outputs": [
    {
     "data": {
      "image/png": "[encoded data removed]",
      "text/plain": [
       "<Figure size 1200x200 with 1 Axes>"
      ]
     },
     "metadata": {},
     "output_type": "display_data"
    }
   ],
   "source": [
    "# GET PARTICIPANT SCORES ------------------------------------------------------------------------------------------------------\n",
    "def get_participant_scores(nscores):\n",
    "    i = 0\n",
    "    k = list(nscores.keys())\n",
    "    participant_scores = {}\n",
    "    \n",
    "    for score in nscores:\n",
    "        if nscores[k[i]]['label'] == 'Participant':\n",
    "            participant_scores[k[i]] = nscores[k[i]]['score']\n",
    "        i += 1\n",
    "    return participant_scores\n",
    "\n",
    "\n",
    "# PLOT PASRTICIPANTS -----------------------------------------------------------------------------------------------------------------\n",
    "def plot_participants(nscores):\n",
    "    plt.style.use('_mpl-gallery')\n",
    "    # get data\n",
    "    x_pos = 1 + np.arange(17)\n",
    "    participant_scores = get_participant_scores(nscores)\n",
    "    ordered_scores = dict(sorted(participant_scores.items(), key=lambda item: item[1], reverse=True))\n",
    "    scores = []\n",
    "    labels = []\n",
    "    for code in ordered_scores:\n",
    "        scores.append(ordered_scores[code])\n",
    "        labels.append(code)\n",
    "    # plot\n",
    "    fig, ax = plt.subplots()\n",
    "    fig.set_figwidth(12)\n",
    "    fig.set_figheight(2)\n",
    "    ax.bar(x_pos, scores, label=labels)\n",
    "    ax.set_title('Participant scores')\n",
    "    ax.set_xlabel(\"Participants\")\n",
    "    ax.set_ylabel(\"Scores\")\n",
    "    ax.set(xlim=(0, 8), xticks=np.arange(1, 19),\n",
    "           ylim=(0, 1), yticks=np.arange(1, 1))\n",
    "    plt.axis('off')\n",
    "    rects = ax.patches\n",
    "    for rect, label in zip(rects, labels):\n",
    "        height = rect.get_height()\n",
    "        ax.text(\n",
    "            rect.get_x() + rect.get_width() / 2, height + 0.1, label, ha=\"center\", va=\"bottom\"\n",
    "        )\n",
    "    plt.show()\n",
    "\n",
    "\n",
    "# RUN -------------------------------------------------------------------------------------------------------------------------\n",
    "#participant_scores = get_participant_scores(nscores)\n",
    "#dict(sorted(participant_scores.items(), key=lambda item: item[1], reverse=True))\n",
    "plot_participants(nscores)"
   ]
  },
  {
   "cell_type": "markdown",
   "id": "58431385-0299-4b48-8d80-4b689ea8eac2",
   "metadata": {},
   "source": [
    "# Response Scores"
   ]
  },
  {
   "cell_type": "code",
   "execution_count": 6,
   "id": "56041672-eb3f-4452-806f-007be1b26e9d",
   "metadata": {
    "collapsed": true,
    "jupyter": {
     "outputs_hidden": true,
     "source_hidden": true
    }
   },
   "outputs": [
    {
     "data": {
      "text/plain": [
       "{'VV is fake11': 0.5629625324786561,\n",
       " 'VM is fake33': 0.5629625324786561,\n",
       " 'AM is fake42': 0.5629625324786561,\n",
       " 'AA is fake64': 0.5629625324786561,\n",
       " 'MM is fake83': 0.5629625324786561,\n",
       " 'VA is authentic91': 0.5629625324786561,\n",
       " 'Apple is authentic107': 0.5629625324786561,\n",
       " 'BBC is authentic124': 0.5629625324786561,\n",
       " 'VV is fake8': 0.5479425341874695,\n",
       " 'VM is authentic19': 0.5479425341874695,\n",
       " 'AM is fake47': 0.5479425341874695,\n",
       " 'AA is fake59': 0.5479425341874695,\n",
       " 'MM is fake80': 0.5479425341874695,\n",
       " 'VA is fake101': 0.5479425341874695,\n",
       " 'Apple is authentic109': 0.5479425341874695,\n",
       " 'BBC is authentic121': 0.5479425341874695,\n",
       " 'VV is authentic0': 0.538526635010196,\n",
       " 'VM is fake26': 0.538526635010196,\n",
       " 'AM is fake37': 0.538526635010196,\n",
       " 'AA is fake55': 0.538526635010196,\n",
       " 'MM is fake75': 0.538526635010196,\n",
       " 'VA is authentic87': 0.538526635010196,\n",
       " 'Apple is authentic105': 0.538526635010196,\n",
       " 'BBC is authentic132': 0.538526635010196,\n",
       " 'VV is fake16': 0.5375766213998855,\n",
       " 'VM is authentic17': 0.5375766213998855,\n",
       " 'AM is fake48': 0.5375766213998855,\n",
       " 'AA is fake58': 0.5375766213998855,\n",
       " 'MM is fake82': 0.5375766213998855,\n",
       " 'VA is authentic86': 0.5375766213998855,\n",
       " 'Apple is authentic102': 0.5375766213998855,\n",
       " 'BBC is authentic123': 0.5375766213998855,\n",
       " 'VV is authentic3': 0.5256589706995588,\n",
       " 'VM is authentic18': 0.5256589706995588,\n",
       " 'AM is fake46': 0.5256589706995588,\n",
       " 'AA is fake62': 0.5256589706995588,\n",
       " 'MM is fake79': 0.5256589706995588,\n",
       " 'VA is authentic88': 0.5256589706995588,\n",
       " 'Apple is authentic110': 0.5256589706995588,\n",
       " 'BBC is authentic126': 0.5256589706995588,\n",
       " 'VV is fake7': 0.49580569095700855,\n",
       " 'VM is fake32': 0.49580569095700855,\n",
       " 'AM is fake43': 0.49580569095700855,\n",
       " 'AA is fake66': 0.49580569095700855,\n",
       " 'MM is fake78': 0.49580569095700855,\n",
       " 'VA is fake98': 0.49580569095700855,\n",
       " 'Apple is fake115': 0.49580569095700855,\n",
       " 'BBC is authentic127': 0.49580569095700855,\n",
       " 'VV is fake15': 0.4820750020339724,\n",
       " 'VM is fake25': 0.4820750020339724,\n",
       " 'AM is fake45': 0.4820750020339724,\n",
       " 'AA is authentic51': 0.4820750020339724,\n",
       " 'MM is fake81': 0.4820750020339724,\n",
       " 'VA is fake99': 0.4820750020339724,\n",
       " 'Apple is authentic108': 0.4820750020339724,\n",
       " 'BBC is authentic131': 0.4820750020339724,\n",
       " 'VV is fake12': 0.4787665273717952,\n",
       " 'VM is authentic22': 0.4787665273717952,\n",
       " 'AM is fake39': 0.4787665273717952,\n",
       " 'AA is fake61': 0.4787665273717952,\n",
       " 'MM is authentic71': 0.4787665273717952,\n",
       " 'VA is authentic90': 0.4787665273717952,\n",
       " 'Apple is authentic111': 0.4787665273717952,\n",
       " 'BBC is authentic120': 0.4787665273717952,\n",
       " 'VV is fake9': 0.4747652141740569,\n",
       " 'VM is fake30': 0.4747652141740569,\n",
       " 'AM is fake49': 0.4747652141740569,\n",
       " 'AA is authentic53': 0.4747652141740569,\n",
       " 'MM is fake73': 0.4747652141740569,\n",
       " 'VA is fake89': 0.4747652141740569,\n",
       " 'Apple is fake114': 0.4747652141740569,\n",
       " 'BBC is authentic133': 0.4747652141740569,\n",
       " 'VV is fake14': 0.45740253357331684,\n",
       " 'VM is fake28': 0.45740253357331684,\n",
       " 'AM is fake40': 0.45740253357331684,\n",
       " 'AA is authentic52': 0.45740253357331684,\n",
       " 'MM is fake72': 0.45740253357331684,\n",
       " 'VA is fake93': 0.45740253357331684,\n",
       " 'Apple is fake113': 0.45740253357331684,\n",
       " 'BBC is authentic129': 0.45740253357331684,\n",
       " 'VV is authentic2': 0.4334403563731273,\n",
       " 'VM is authentic23': 0.4334403563731273,\n",
       " 'AM is fake44': 0.4334403563731273,\n",
       " 'MM is fake74': 0.4334403563731273,\n",
       " 'VA is fake96': 0.4334403563731273,\n",
       " 'Apple is fake116': 0.4334403563731273,\n",
       " 'BBC is authentic125': 0.4334403563731273,\n",
       " 'VV is authentic1': 0.43209908288179,\n",
       " 'VM is authentic21': 0.43209908288179,\n",
       " 'AM is fake36': 0.43209908288179,\n",
       " 'AA is fake57': 0.43209908288179,\n",
       " 'MM is authentic69': 0.43209908288179,\n",
       " 'VA is fake100': 0.43209908288179,\n",
       " 'Apple is authentic103': 0.43209908288179,\n",
       " 'BBC is authentic119': 0.43209908288179,\n",
       " 'VV is authentic5': 0.4176186621836835,\n",
       " 'VM is fake31': 0.4176186621836835,\n",
       " 'AM is fake50': 0.4176186621836835,\n",
       " 'AA is fake65': 0.4176186621836835,\n",
       " 'MM is authentic68': 0.4176186621836835,\n",
       " 'VA is fake94': 0.4176186621836835,\n",
       " 'Apple is fake112': 0.4176186621836835,\n",
       " 'BBC is authentic128': 0.4176186621836835,\n",
       " 'VV is fake10': 0.4125373028111921,\n",
       " 'VM is authentic20': 0.4125373028111921,\n",
       " 'AM is fake38': 0.4125373028111921,\n",
       " 'AA is fake60': 0.4125373028111921,\n",
       " 'MM is authentic70': 0.4125373028111921,\n",
       " 'VA is fake95': 0.4125373028111921,\n",
       " 'Apple is fake117': 0.4125373028111921,\n",
       " 'BBC is authentic130': 0.4125373028111921,\n",
       " 'VV is authentic6': 0.3911620955140841,\n",
       " 'VM is authentic24': 0.3911620955140841,\n",
       " 'AM is authentic35': 0.3911620955140841,\n",
       " 'AA is fake67': 0.3911620955140841,\n",
       " 'MM is fake84': 0.3911620955140841,\n",
       " 'VA is authentic92': 0.3911620955140841,\n",
       " 'Apple is authentic104': 0.3911620955140841,\n",
       " 'BBC is authentic134': 0.3911620955140841,\n",
       " 'VV is authentic4': 0.375263968681497,\n",
       " 'VM is fake27': 0.375263968681497,\n",
       " 'AM is fake41': 0.375263968681497,\n",
       " 'AA is fake54': 0.375263968681497,\n",
       " 'MM is fake76': 0.375263968681497,\n",
       " 'VA is fake97': 0.375263968681497,\n",
       " 'Apple is authentic106': 0.375263968681497,\n",
       " 'BBC is fake135': 0.375263968681497,\n",
       " 'VV is fake13': 0.35343727376053957,\n",
       " 'VM is fake29': 0.35343727376053957,\n",
       " 'AM is authentic34': 0.35343727376053957,\n",
       " 'AA is fake63': 0.35343727376053957,\n",
       " 'MM is fake77': 0.35343727376053957,\n",
       " 'VA is authentic85': 0.35343727376053957,\n",
       " 'Apple is fake118': 0.35343727376053957,\n",
       " 'BBC is authentic122': 0.35343727376053957,\n",
       " 'AA is fake56': 0.3434403563731273}"
      ]
     },
     "execution_count": 6,
     "metadata": {},
     "output_type": "execute_result"
    }
   ],
   "source": [
    "# GET RESPONSE SCORES ---------------------------------------------------------------------------------------------------------\n",
    "def get_response_scores(nscores):\n",
    "    i = 0\n",
    "    k = list(nscores.keys())\n",
    "    response_scores = {}\n",
    "    for score in nscores:\n",
    "        if nscores[k[i]]['label'] == 'Response':\n",
    "            response_scores[k[i]] = nscores[k[i]]['score']\n",
    "        i += 1\n",
    "    return response_scores\n",
    "\n",
    "\n",
    "# PLOT RESPONSES -----------------------------------------------------------------------------------------------------------------\n",
    "def plot_responses(nscores):\n",
    "    plt.style.use('_mpl-gallery')\n",
    "    # get data\n",
    "    x_pos = 1 + np.arange(17*8)\n",
    "    response_scores = get_response_scores(nscores)\n",
    "    ordered_scores = dict(sorted(response_scores.items(), key=lambda item: item[1], reverse=True))\n",
    "    scores = []\n",
    "    #labels = []\n",
    "    for response in ordered_scores:\n",
    "        scores.append(ordered_scores[response])\n",
    "        #labels.append(response)\n",
    "    # plot\n",
    "    fig, ax = plt.subplots()\n",
    "    fig.set_figwidth(16)\n",
    "    fig.set_figheight(2)\n",
    "    ax.bar(x_pos, scores)#, label=labels)\n",
    "    ax.set_title('Response scores')\n",
    "    ax.set_xlabel(\"Responses\")\n",
    "    ax.set_ylabel(\"Scores\")\n",
    "    ax.set(xlim=(0, 8), xticks=np.arange(1, 17*8+1.5),\n",
    "           ylim=(0, 0.6), yticks=np.arange(1, 1))\n",
    "    plt.axis('off')\n",
    "    #rects = ax.patches\n",
    "    #for rect, label in zip(rects, labels):\n",
    "    #    height = rect.get_height()\n",
    "    #    ax.text(\n",
    "    #        rect.get_x() + rect.get_width() / 2, height + 0.1, label, ha=\"center\", va=\"bottom\"\n",
    "    #    )\n",
    "    plt.show()\n",
    "\n",
    "\n",
    "# RUN -------------------------------------------------------------------------------------------------------------------------\n",
    "response_scores = get_response_scores(nscores)\n",
    "dict(sorted(response_scores.items(), key=lambda item: item[1], reverse=True))\n",
    "#plot_responses(nscores)"
   ]
  },
  {
   "cell_type": "markdown",
   "id": "a936ecb5-d68c-42a1-bc97-5f273c972b46",
   "metadata": {},
   "source": [
    "# VISUALIZATIONS"
   ]
  },
  {
   "cell_type": "code",
   "execution_count": 5,
   "id": "3d26b12b-c3d9-4318-8679-2dc11e113c39",
   "metadata": {
    "collapsed": true,
    "jupyter": {
     "outputs_hidden": true,
     "source_hidden": true
    },
    "scrolled": true
   },
   "outputs": [
    {
     "data": {
      "image/png": "[encoded data removed]",
      "text/plain": [
       "<Figure size 600x200 with 1 Axes>"
      ]
     },
     "metadata": {},
     "output_type": "display_data"
    },
    {
     "name": "stdout",
     "output_type": "stream",
     "text": [
      "Figure 1.1\n"
     ]
    }
   ],
   "source": [
    "import networkx as nx\n",
    "import matplotlib.pyplot as plt\n",
    "\n",
    "# Graph to draw\n",
    "G = nx.DiGraph(with_labels=False, rankdir=\"LR\")\n",
    "G.add_node(1,label=r\"$p_1$\")\n",
    "G.add_node(2,label=r\"$p_2$\")\n",
    "G.add_edges_from([(1,2)])\n",
    "\n",
    "# Formatting\n",
    "plt.rcParams['text.usetex'] = True\n",
    "\n",
    "#plt.style.use('dark_background')\n",
    "labels = {node:G.nodes[node]['label'] for node in G.nodes()}\n",
    "pos = nx.nx_agraph.graphviz_layout(G, prog=\"dot\")\n",
    "\n",
    "# Plot tree\n",
    "fig, ax = plt.subplots(figsize=(6, 2), tight_layout=True)\n",
    "nx.draw_networkx(G, pos=pos, ax=ax, with_labels=True, labels=labels, arrows=False, node_size=4000, node_color=[(0.3,0.8,0.9,1.0)], font_color=\"black\", edge_color=[(0.3,0.8,0.9,1.0)], font_size=32, width=4, linewidths=1)\n",
    "plt.box(False)\n",
    "fig.tight_layout()\n",
    "\n",
    "nx.draw_networkx_edge_labels(G, pos, {(1,2): r\"$Sim(p_1,p_2)$\"}, font_size=32, verticalalignment=\"center\", clip_on=False)\n",
    "\n",
    "plt.show()\n",
    "\n",
    "print(\"Figure 1.1\")"
   ]
  },
  {
   "cell_type": "code",
   "execution_count": null,
   "id": "a1a8c795-fc1a-4ca3-bfc7-52856f7cb8dd",
   "metadata": {},
   "outputs": [],
   "source": []
  }
 ],
 "metadata": {
  "kernelspec": {
   "display_name": "Python 3 (ipykernel)",
   "language": "python",
   "name": "python3"
  },
  "language_info": {
   "codemirror_mode": {
    "name": "ipython",
    "version": 3
   },
   "file_extension": ".py",
   "mimetype": "text/x-python",
   "name": "python",
   "nbconvert_exporter": "python",
   "pygments_lexer": "ipython3",
   "version": "3.10.12"
  }
 },
 "nbformat": 4,
 "nbformat_minor": 5
}
